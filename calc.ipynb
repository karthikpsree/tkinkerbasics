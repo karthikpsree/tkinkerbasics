{
 "cells": [
  {
   "cell_type": "code",
   "execution_count": 1,
   "id": "3daacb14",
   "metadata": {},
   "outputs": [],
   "source": [
    "from tkinter import *\n",
    "gui2 = Tk()\n",
    "gui2.geometry('400x100')\n",
    "Label(gui2, text='First Number').grid(row=0)\n",
    "Label(gui2, text='Last Number').grid(row=1)\n",
    "Label(gui2, text='Answer').grid(row=2)\n",
    "\n",
    "first_no = IntVar()\n",
    "second_no = IntVar()\n",
    "\n",
    "e1 = Entry(gui2, textvariable= first_no)\n",
    "e2 = Entry(gui2, textvariable= second_no)\n",
    "label3 = Label(gui2)\n",
    "# e3 = Entry(gui2, textvariable=equation)\n",
    "e1.grid(row=0, column=1)\n",
    "e2.grid(row=1, column=1)\n",
    "label3.grid(row=2, column=1)\n",
    "# def add():\n",
    "#     e3=float(e1)+float(e2)\n",
    "def add():\n",
    "    sumation = first_no.get() + second_no.get()\n",
    "    label3.config(text=\"your final number is:\" + str(sumation))\n",
    "def min():\n",
    "    sumation = first_no.get() - second_no.get()\n",
    "    label3.config(text=\"your final number is:\" + str(sumation))    \n",
    "def div():\n",
    "    sumation = first_no.get() / second_no.get()\n",
    "    label3.config(text=\"your final number is:\" + str(sumation))\n",
    "def mul():\n",
    "    sumation = first_no.get() * second_no.get()\n",
    "    label3.config(text=\"your final number is:\" + str(sumation))\n",
    "plus = Button(gui2, text=' + ', fg='black', bg='red',\n",
    "                command=lambda : add())\n",
    "plus.grid(row=3, column=3)\n",
    " \n",
    "minus = Button(gui2, text=' - ', fg='black', bg='red',\n",
    "                command=lambda : min())\n",
    "minus.grid(row=3, column=4)\n",
    " \n",
    "multiply = Button(gui2, text=' * ', fg='black', bg='red',\n",
    "                    command=lambda : mul())\n",
    "multiply.grid(row=3, column=5)\n",
    "\n",
    "divide = Button(gui2, text=' / ', fg='black', bg='red',\n",
    "                    command=lambda : div())\n",
    "divide.grid(row=3, column=6)\n",
    "\n",
    "\n",
    "gui2.mainloop()"
   ]
  },
  {
   "cell_type": "code",
   "execution_count": null,
   "id": "649e0e0a",
   "metadata": {},
   "outputs": [],
   "source": []
  }
 ],
 "metadata": {
  "kernelspec": {
   "display_name": "Python 3 (ipykernel)",
   "language": "python",
   "name": "python3"
  },
  "language_info": {
   "codemirror_mode": {
    "name": "ipython",
    "version": 3
   },
   "file_extension": ".py",
   "mimetype": "text/x-python",
   "name": "python",
   "nbconvert_exporter": "python",
   "pygments_lexer": "ipython3",
   "version": "3.9.13"
  }
 },
 "nbformat": 4,
 "nbformat_minor": 5
}
